{
 "cells": [
  {
   "cell_type": "code",
   "execution_count": 1,
   "metadata": {},
   "outputs": [],
   "source": [
    "data_root = '../data/'"
   ]
  },
  {
   "cell_type": "code",
   "execution_count": 2,
   "metadata": {},
   "outputs": [],
   "source": [
    "import pandas as pd\n"
   ]
  },
  {
   "cell_type": "code",
   "execution_count": 3,
   "metadata": {},
   "outputs": [],
   "source": [
    "import seaborn as sns"
   ]
  },
  {
   "cell_type": "code",
   "execution_count": 4,
   "metadata": {},
   "outputs": [],
   "source": [
    "raw_df = pd.read_excel(data_root+'raw_data.xlsx')\n",
    "df = pd.read_excel(data_root+'extracted.xlsx')"
   ]
  },
  {
   "cell_type": "code",
   "execution_count": 5,
   "metadata": {},
   "outputs": [
    {
     "data": {
      "text/html": [
       "<div>\n",
       "<style scoped>\n",
       "    .dataframe tbody tr th:only-of-type {\n",
       "        vertical-align: middle;\n",
       "    }\n",
       "\n",
       "    .dataframe tbody tr th {\n",
       "        vertical-align: top;\n",
       "    }\n",
       "\n",
       "    .dataframe thead th {\n",
       "        text-align: right;\n",
       "    }\n",
       "</style>\n",
       "<table border=\"1\" class=\"dataframe\">\n",
       "  <thead>\n",
       "    <tr style=\"text-align: right;\">\n",
       "      <th></th>\n",
       "      <th>Unnamed: 0</th>\n",
       "      <th>email</th>\n",
       "      <th>ts</th>\n",
       "      <th>round</th>\n",
       "      <th>x</th>\n",
       "      <th>y</th>\n",
       "      <th>ix</th>\n",
       "      <th>iy</th>\n",
       "    </tr>\n",
       "  </thead>\n",
       "  <tbody>\n",
       "    <tr>\n",
       "      <th>0</th>\n",
       "      <td>0</td>\n",
       "      <td>01094474828@naver.com</td>\n",
       "      <td>1548990076421</td>\n",
       "      <td>1</td>\n",
       "      <td>-1.0</td>\n",
       "      <td>-1.0</td>\n",
       "      <td>-1</td>\n",
       "      <td>-1</td>\n",
       "    </tr>\n",
       "    <tr>\n",
       "      <th>1</th>\n",
       "      <td>1</td>\n",
       "      <td>01094474828@naver.com</td>\n",
       "      <td>1548990084275</td>\n",
       "      <td>1</td>\n",
       "      <td>30.2</td>\n",
       "      <td>39.7</td>\n",
       "      <td>74</td>\n",
       "      <td>67</td>\n",
       "    </tr>\n",
       "    <tr>\n",
       "      <th>2</th>\n",
       "      <td>2</td>\n",
       "      <td>01094474828@naver.com</td>\n",
       "      <td>1548990084455</td>\n",
       "      <td>1</td>\n",
       "      <td>29.8</td>\n",
       "      <td>40.0</td>\n",
       "      <td>74</td>\n",
       "      <td>67</td>\n",
       "    </tr>\n",
       "    <tr>\n",
       "      <th>3</th>\n",
       "      <td>3</td>\n",
       "      <td>01094474828@naver.com</td>\n",
       "      <td>1548990095856</td>\n",
       "      <td>1</td>\n",
       "      <td>34.9</td>\n",
       "      <td>35.4</td>\n",
       "      <td>74</td>\n",
       "      <td>67</td>\n",
       "    </tr>\n",
       "    <tr>\n",
       "      <th>4</th>\n",
       "      <td>4</td>\n",
       "      <td>01094474828@naver.com</td>\n",
       "      <td>1548990096043</td>\n",
       "      <td>1</td>\n",
       "      <td>29.8</td>\n",
       "      <td>40.0</td>\n",
       "      <td>74</td>\n",
       "      <td>67</td>\n",
       "    </tr>\n",
       "  </tbody>\n",
       "</table>\n",
       "</div>"
      ],
      "text/plain": [
       "   Unnamed: 0                  email             ts  round     x     y  ix  iy\n",
       "0           0  01094474828@naver.com  1548990076421      1  -1.0  -1.0  -1  -1\n",
       "1           1  01094474828@naver.com  1548990084275      1  30.2  39.7  74  67\n",
       "2           2  01094474828@naver.com  1548990084455      1  29.8  40.0  74  67\n",
       "3           3  01094474828@naver.com  1548990095856      1  34.9  35.4  74  67\n",
       "4           4  01094474828@naver.com  1548990096043      1  29.8  40.0  74  67"
      ]
     },
     "execution_count": 5,
     "metadata": {},
     "output_type": "execute_result"
    }
   ],
   "source": [
    "raw_df.head()"
   ]
  },
  {
   "cell_type": "code",
   "execution_count": 76,
   "metadata": {
    "scrolled": true
   },
   "outputs": [
    {
     "data": {
      "text/html": [
       "<div>\n",
       "<style scoped>\n",
       "    .dataframe tbody tr th:only-of-type {\n",
       "        vertical-align: middle;\n",
       "    }\n",
       "\n",
       "    .dataframe tbody tr th {\n",
       "        vertical-align: top;\n",
       "    }\n",
       "\n",
       "    .dataframe thead th {\n",
       "        text-align: right;\n",
       "    }\n",
       "</style>\n",
       "<table border=\"1\" class=\"dataframe\">\n",
       "  <thead>\n",
       "    <tr style=\"text-align: right;\">\n",
       "      <th></th>\n",
       "      <th>Unnamed: 0</th>\n",
       "      <th>alpha</th>\n",
       "      <th>avg_ccei</th>\n",
       "      <th>email</th>\n",
       "      <th>med_ccei</th>\n",
       "      <th>min_ccei</th>\n",
       "      <th>omega</th>\n",
       "      <th>rho</th>\n",
       "      <th>selected</th>\n",
       "    </tr>\n",
       "  </thead>\n",
       "  <tbody>\n",
       "    <tr>\n",
       "      <th>0</th>\n",
       "      <td>0</td>\n",
       "      <td>0.809374</td>\n",
       "      <td>0.998411</td>\n",
       "      <td>01094474828@naver.com</td>\n",
       "      <td>0.980753</td>\n",
       "      <td>0.914301</td>\n",
       "      <td>0.128506</td>\n",
       "      <td>-0.358958</td>\n",
       "      <td>0</td>\n",
       "    </tr>\n",
       "    <tr>\n",
       "      <th>1</th>\n",
       "      <td>1</td>\n",
       "      <td>0.898992</td>\n",
       "      <td>0.980414</td>\n",
       "      <td>062woogwang@gmail.com</td>\n",
       "      <td>0.916396</td>\n",
       "      <td>0.574449</td>\n",
       "      <td>0.937243</td>\n",
       "      <td>2.819629</td>\n",
       "      <td>0</td>\n",
       "    </tr>\n",
       "    <tr>\n",
       "      <th>2</th>\n",
       "      <td>2</td>\n",
       "      <td>1.549390</td>\n",
       "      <td>0.996846</td>\n",
       "      <td>0718lhj@daum.net</td>\n",
       "      <td>0.960723</td>\n",
       "      <td>0.863205</td>\n",
       "      <td>0.006313</td>\n",
       "      <td>0.297705</td>\n",
       "      <td>0</td>\n",
       "    </tr>\n",
       "    <tr>\n",
       "      <th>3</th>\n",
       "      <td>3</td>\n",
       "      <td>1.000000</td>\n",
       "      <td>0.999955</td>\n",
       "      <td>12356778@naver.com</td>\n",
       "      <td>0.998352</td>\n",
       "      <td>0.994222</td>\n",
       "      <td>0.026652</td>\n",
       "      <td>-0.040149</td>\n",
       "      <td>0</td>\n",
       "    </tr>\n",
       "    <tr>\n",
       "      <th>4</th>\n",
       "      <td>4</td>\n",
       "      <td>1.000000</td>\n",
       "      <td>0.999272</td>\n",
       "      <td>1zzik@naver.com</td>\n",
       "      <td>0.995806</td>\n",
       "      <td>0.888774</td>\n",
       "      <td>0.122071</td>\n",
       "      <td>-0.172309</td>\n",
       "      <td>0</td>\n",
       "    </tr>\n",
       "  </tbody>\n",
       "</table>\n",
       "</div>"
      ],
      "text/plain": [
       "   Unnamed: 0     alpha  avg_ccei                  email  med_ccei  min_ccei  \\\n",
       "0           0  0.809374  0.998411  01094474828@naver.com  0.980753  0.914301   \n",
       "1           1  0.898992  0.980414  062woogwang@gmail.com  0.916396  0.574449   \n",
       "2           2  1.549390  0.996846       0718lhj@daum.net  0.960723  0.863205   \n",
       "3           3  1.000000  0.999955     12356778@naver.com  0.998352  0.994222   \n",
       "4           4  1.000000  0.999272        1zzik@naver.com  0.995806  0.888774   \n",
       "\n",
       "      omega       rho  selected  \n",
       "0  0.128506 -0.358958         0  \n",
       "1  0.937243  2.819629         0  \n",
       "2  0.006313  0.297705         0  \n",
       "3  0.026652 -0.040149         0  \n",
       "4  0.122071 -0.172309         0  "
      ]
     },
     "execution_count": 76,
     "metadata": {},
     "output_type": "execute_result"
    }
   ],
   "source": [
    "df.head()"
   ]
  },
  {
   "cell_type": "code",
   "execution_count": 77,
   "metadata": {},
   "outputs": [],
   "source": [
    "def scatter(df, you):\n",
    "    selected = [0] * len(df)\n",
    "    selected[you] = 1\n",
    "    df['selected'] = selected\n",
    "    new_df = pd.concat([df[df['selected'] == 0], df[df['selected'] == 1]])\n",
    "    sns.scatterplot(data=new_df, x='alpha', y='rho', hue='selected')"
   ]
  },
  {
   "cell_type": "code",
   "execution_count": 78,
   "metadata": {},
   "outputs": [
    {
     "data": {
      "image/png": "[encoded data removed]",
      "text/plain": [
       "<Figure size 432x288 with 1 Axes>"
      ]
     },
     "metadata": {
      "needs_background": "light"
     },
     "output_type": "display_data"
    }
   ],
   "source": [
    "scatter(df, 40)"
   ]
  },
  {
   "cell_type": "code",
   "execution_count": 46,
   "metadata": {},
   "outputs": [],
   "source": [
    "data = df[['alpha', 'rho']]"
   ]
  },
  {
   "cell_type": "code",
   "execution_count": 88,
   "metadata": {},
   "outputs": [
    {
     "data": {
      "text/plain": [
       "<matplotlib.axes._subplots.AxesSubplot at 0x1f7848912b0>"
      ]
     },
     "execution_count": 88,
     "metadata": {},
     "output_type": "execute_result"
    },
    {
     "data": {
      "image/png": "[encoded data removed]",
      "text/plain": [
       "<Figure size 432x288 with 1 Axes>"
      ]
     },
     "metadata": {
      "needs_background": "light"
     },
     "output_type": "display_data"
    }
   ],
   "source": [
    "tmpdf = df[['alpha', 'rho', 'min_ccei']]\n",
    "sns.barplot(data=tmpdf)\n",
    "#sns.catplot(data=tmpdf.iloc[5], color='red')"
   ]
  },
  {
   "cell_type": "code",
   "execution_count": 89,
   "metadata": {},
   "outputs": [],
   "source": [
    "from matplotlib import pyplot as plt"
   ]
  },
  {
   "cell_type": "code",
   "execution_count": 115,
   "metadata": {},
   "outputs": [
    {
     "data": {
      "text/plain": [
       "count    312.000000\n",
       "mean       0.791643\n",
       "std        0.167208\n",
       "min        0.160494\n",
       "25%        0.685554\n",
       "50%        0.837441\n",
       "75%        0.921340\n",
       "max        1.000000\n",
       "Name: min_ccei, dtype: float64"
      ]
     },
     "execution_count": 115,
     "metadata": {},
     "output_type": "execute_result"
    }
   ],
   "source": [
    "tmpdf['min_ccei'].describe()"
   ]
  },
  {
   "cell_type": "code",
   "execution_count": 114,
   "metadata": {},
   "outputs": [
    {
     "data": {
      "text/plain": [
       "(-3, 5)"
      ]
     },
     "execution_count": 114,
     "metadata": {},
     "output_type": "execute_result"
    },
    {
     "data": {
      "image/png": "[encoded data removed]",
      "text/plain": [
       "<Figure size 432x288 with 3 Axes>"
      ]
     },
     "metadata": {
      "needs_background": "light"
     },
     "output_type": "display_data"
    }
   ],
   "source": [
    "fig, ax = plt.subplots(3, 1)\n",
    "ax[0].barh('alpha', tmpdf['alpha'])\n",
    "ax[0].axvline(tmpdf.iloc[5]['alpha'], ls='--', color='r')\n",
    "ax[0].set_xlim([-1, 3])\n",
    "ax[1].barh('ccei', tmpdf['min_ccei'])\n",
    "ax[1].axvline(tmpdf.iloc[5]['min_ccei'], ls='--', color='r')\n",
    "ax[1].set_xlim([-0.1, 1.1])\n",
    "ax[2].barh('rho', tmpdf['rho'])\n",
    "ax[2].axvline(tmpdf.iloc[5]['rho'], ls='--', color='r')\n",
    "ax[2].set_xlim([-3, 5])"
   ]
  }
 ],
 "metadata": {
  "kernelspec": {
   "display_name": "Python 3",
   "language": "python",
   "name": "python3"
  },
  "language_info": {
   "codemirror_mode": {
    "name": "ipython",
    "version": 3
   },
   "file_extension": ".py",
   "mimetype": "text/x-python",
   "name": "python",
   "nbconvert_exporter": "python",
   "pygments_lexer": "ipython3",
   "version": "3.7.2"
  }
 },
 "nbformat": 4,
 "nbformat_minor": 2
}
